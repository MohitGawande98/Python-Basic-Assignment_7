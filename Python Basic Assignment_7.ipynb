{
 "cells": [
  {
   "cell_type": "markdown",
   "metadata": {},
   "source": [
    "\n",
    "# Python Basic Assignment_7."
   ]
  },
  {
   "cell_type": "raw",
   "metadata": {},
   "source": [
    "Q1. What is the name of the feature responsible for generating Regex objects?\n",
    "\n",
    "Answer:- A RegEx, or regular Expression, is a sequence of characters that forms a search pattern. RegEx can be used to check if a string contains the specified search pattern.\n",
    "         The re.compile() function returns RegEx objects.      "
   ]
  },
  {
   "cell_type": "raw",
   "metadata": {},
   "source": [
    "Q2.Why do raw strings often appear in Regex objects?\n",
    "\n",
    "Answer:- Raw strings are used so that backlashes do not have to be escaped."
   ]
  },
  {
   "cell_type": "raw",
   "metadata": {},
   "source": [
    "Q3. What is the return value of the search() method?\n",
    "\n",
    "Answer:- The search() method searches a string for a specified value, and returns the position of the match.The search value can be string or regular expression. The search() method returns -1 if no match is found."
   ]
  },
  {
   "cell_type": "raw",
   "metadata": {},
   "source": [
    "Q4. From a Match item, how do you get the actual strings that match the pattern?\n",
    "\n",
    "Answer:- With the help of the group() method we get the actual strings that match the pattern."
   ]
  }
 ],
 "metadata": {
  "kernelspec": {
   "display_name": "Python 3",
   "language": "python",
   "name": "python3"
  },
  "language_info": {
   "codemirror_mode": {
    "name": "ipython",
    "version": 3
   },
   "file_extension": ".py",
   "mimetype": "text/x-python",
   "name": "python",
   "nbconvert_exporter": "python",
   "pygments_lexer": "ipython3",
   "version": "3.7.1"
  }
 },
 "nbformat": 4,
 "nbformat_minor": 2
}
